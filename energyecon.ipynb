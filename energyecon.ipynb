{
 "cells": [
  {
   "cell_type": "code",
   "execution_count": 4,
   "metadata": {},
   "outputs": [
    {
     "name": "stdout",
     "output_type": "stream",
     "text": [
      "The autoreload extension is already loaded. To reload it, use:\n",
      "  %reload_ext autoreload\n"
     ]
    }
   ],
   "source": [
    "import pandas as pd\n",
    "import numpy as np\n",
    "import requests\n",
    "%load_ext autoreload\n",
    "%autoreload 2"
   ]
  },
  {
   "cell_type": "code",
   "execution_count": 3,
   "metadata": {},
   "outputs": [
    {
     "name": "stdout",
     "output_type": "stream",
     "text": [
      "Requirement already satisfied: requests in c:\\users\\juliu\\anaconda3\\lib\\site-packages (2.31.0)\n",
      "Requirement already satisfied: charset-normalizer<4,>=2 in c:\\users\\juliu\\anaconda3\\lib\\site-packages (from requests) (2.0.4)\n",
      "Requirement already satisfied: idna<4,>=2.5 in c:\\users\\juliu\\anaconda3\\lib\\site-packages (from requests) (3.4)\n",
      "Requirement already satisfied: urllib3<3,>=1.21.1 in c:\\users\\juliu\\anaconda3\\lib\\site-packages (from requests) (1.26.18)\n",
      "Requirement already satisfied: certifi>=2017.4.17 in c:\\users\\juliu\\anaconda3\\lib\\site-packages (from requests) (2024.2.2)\n",
      "Note: you may need to restart the kernel to use updated packages.\n"
     ]
    }
   ],
   "source": [
    "pip install requests"
   ]
  },
  {
   "cell_type": "code",
   "execution_count": null,
   "metadata": {},
   "outputs": [],
   "source": [
    "fd = https://api.energidataservice.dk/dataset"
   ]
  },
  {
   "cell_type": "code",
   "execution_count": 5,
   "metadata": {},
   "outputs": [
    {
     "name": "stdout",
     "output_type": "stream",
     "text": [
      "total 8283744\n",
      "limit 5\n",
      "dataset ConsumptionIndustry\n",
      "records [{'HourUTC': '2024-03-20T22:00:00', 'HourDK': '2024-03-20T23:00:00', 'MunicipalityNo': '101', 'Branche': 'Erhverv', 'ConsumptionkWh': 145132.91}, {'HourUTC': '2024-03-20T22:00:00', 'HourDK': '2024-03-20T23:00:00', 'MunicipalityNo': '101', 'Branche': 'Offentligt', 'ConsumptionkWh': 30190.053}, {'HourUTC': '2024-03-20T22:00:00', 'HourDK': '2024-03-20T23:00:00', 'MunicipalityNo': '101', 'Branche': 'Privat', 'ConsumptionkWh': 48941.212}, {'HourUTC': '2024-03-20T22:00:00', 'HourDK': '2024-03-20T23:00:00', 'MunicipalityNo': '147', 'Branche': 'Erhverv', 'ConsumptionkWh': 11689.203}, {'HourUTC': '2024-03-20T22:00:00', 'HourDK': '2024-03-20T23:00:00', 'MunicipalityNo': '147', 'Branche': 'Offentligt', 'ConsumptionkWh': 3868.573}]\n",
      "records:\n",
      "  {'HourUTC': '2024-03-20T22:00:00', 'HourDK': '2024-03-20T23:00:00', 'MunicipalityNo': '101', 'Branche': 'Erhverv', 'ConsumptionkWh': 145132.91}\n",
      "  {'HourUTC': '2024-03-20T22:00:00', 'HourDK': '2024-03-20T23:00:00', 'MunicipalityNo': '101', 'Branche': 'Offentligt', 'ConsumptionkWh': 30190.053}\n",
      "  {'HourUTC': '2024-03-20T22:00:00', 'HourDK': '2024-03-20T23:00:00', 'MunicipalityNo': '101', 'Branche': 'Privat', 'ConsumptionkWh': 48941.212}\n",
      "  {'HourUTC': '2024-03-20T22:00:00', 'HourDK': '2024-03-20T23:00:00', 'MunicipalityNo': '147', 'Branche': 'Erhverv', 'ConsumptionkWh': 11689.203}\n",
      "  {'HourUTC': '2024-03-20T22:00:00', 'HourDK': '2024-03-20T23:00:00', 'MunicipalityNo': '147', 'Branche': 'Offentligt', 'ConsumptionkWh': 3868.573}\n"
     ]
    }
   ],
   "source": [
    "response = requests.get(\n",
    "    url='https://api.energidataservice.dk/dataset/ConsumptionIndustry?limit=5')\n",
    "\n",
    "result = response.json()\n",
    "\n",
    "for k, v in result.items():\n",
    "    print(k, v)\n",
    "\n",
    "records = result.get('records', [])\n",
    "                                           \n",
    "print('records:')\n",
    "for record in records:\n",
    "    print(' ', record)"
   ]
  }
 ],
 "metadata": {
  "kernelspec": {
   "display_name": "base",
   "language": "python",
   "name": "python3"
  },
  "language_info": {
   "codemirror_mode": {
    "name": "ipython",
    "version": 3
   },
   "file_extension": ".py",
   "mimetype": "text/x-python",
   "name": "python",
   "nbconvert_exporter": "python",
   "pygments_lexer": "ipython3",
   "version": "3.9.18"
  }
 },
 "nbformat": 4,
 "nbformat_minor": 2
}
